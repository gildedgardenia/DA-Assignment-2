{
 "cells": [
  {
   "cell_type": "code",
   "execution_count": null,
   "id": "5d65af9f",
   "metadata": {},
   "outputs": [],
   "source": []
  },
  {
   "cell_type": "markdown",
   "id": "d1cdbf8f",
   "metadata": {},
   "source": [
    "# Data Analysis Assignment 2: Customer Service Data Solutions\n",
    "\n",
    "## Business Issue and Understanding\n",
    "\n",
    "## Getting Started\n",
    "You will have two csv files to work "
   ]
  },
  {
   "cell_type": "code",
   "execution_count": 193,
   "id": "f362436b",
   "metadata": {},
   "outputs": [],
   "source": [
    "import pandas as pd\n",
    "import numpy as np\n",
    "import matplotlib.pyplot as plt\n",
    "\n",
    "north = pd.read_csv(\"NorthCallCenter.csv\")\n",
    "south = pd.read_csv(\"SouthCallCenter.csv\")"
   ]
  },
  {
   "cell_type": "markdown",
   "id": "37f77cd4",
   "metadata": {},
   "source": [
    "<span style=\"background-color:orangered; color:orangered;\">- - - - - - - - - - - - - - - - - - - - - - - - - - - - - - - - - - - - - - - - - - - - - - - - - - - - - - - - - - - - - - - - - - - - - - - - - - - - - - - - - - - - - - - - -</span>"
   ]
  },
  {
   "cell_type": "markdown",
   "id": "b4d3484b",
   "metadata": {},
   "source": [
    "## Exploratory Data Analysis\n",
    "\n",
    "\n",
    "1. How many reps are in each branch?\n",
    "1. What is the average busy minutes, not ready minutes, incoming wait time, and during call wait time for each branch?\n",
    "1. What is the number of calls taken for each time block?\n"
   ]
  },
  {
   "cell_type": "markdown",
   "id": "76898991",
   "metadata": {},
   "source": [
    "<span style=\"color:orangered;\">- - - - - - - - - - - - - - - - - - - - - - - - - - - - - - - - - - - - - - - - - - - - - - - - - - - - - - - - - - - - - - - - - - - - - - - - - - - - - - - - - - - - - - - - -</span>\n",
    "#### EDA Question 1:  How many reps are in each branch?  "
   ]
  },
  {
   "cell_type": "code",
   "execution_count": 194,
   "id": "ce3eb5e4",
   "metadata": {},
   "outputs": [],
   "source": [
    "# Option using value_counts() \n",
    "# 9 in NORTH\n",
    "# 11 in SOUTH\n",
    "\n",
    "#SYNTAX USED:\n",
    "# north_reps = north[\"Rep ID\"].value_counts().count()\n",
    "# north_reps"
   ]
  },
  {
   "cell_type": "code",
   "execution_count": 195,
   "id": "3c715bbf",
   "metadata": {},
   "outputs": [],
   "source": [
    "# Option using nunique()\n",
    "\n",
    "# north_number_reps = north[\"Rep ID\"].nunique()  # 9 reps in NORTH\n",
    "\n",
    "# south_number_reps = south[\"Rep ID\"].nunique()  # 11 reps in SOUTH\n"
   ]
  },
  {
   "cell_type": "markdown",
   "id": "a872f045",
   "metadata": {},
   "source": [
    "<span style=\"color:orangered;\">- - - - - - - - - - - - - - - - - - - - - - - - - - - - - - - - - - - - - - - - - - - - - - - - - - - - - - - - - - - - - - - - - - - - - - - - - - - - - - - -</span> \n",
    "#### EDA Question 2:  What is the average busy minutes, not ready minutes, incoming wait time, and during call wait time for each branch? "
   ]
  },
  {
   "cell_type": "code",
   "execution_count": 196,
   "id": "3759305f",
   "metadata": {},
   "outputs": [],
   "source": [
    "# Question 2:\n",
    "# north.describe()\n",
    "# south.describe()"
   ]
  },
  {
   "cell_type": "markdown",
   "id": "75915553",
   "metadata": {},
   "source": [
    "<span style=\"color:orangered;\">- - - - - - - - - - - - - - - - - - - - - - - - - - - - - - - - - - - - - - - - - - - - - - - - - - - - - - - - - - - - - - - - - - - - - - - - - - - - - - - -</span> \n",
    "#### EDA Question 3:  What is the number of calls taken for each time block?"
   ]
  },
  {
   "cell_type": "code",
   "execution_count": 197,
   "id": "49566936",
   "metadata": {},
   "outputs": [],
   "source": [
    "# Question 3: \n",
    "# north_calls_per_time_block = north[\"Time Block\"].value_counts()\n",
    "# north_calls_per_time_block\n",
    "\n",
    "# OUTPUT\n",
    "# 12:00 PM    45\n",
    "# 10:00 AM    43\n",
    "# 2:00 PM     35\n",
    "# 3:00 PM     30\n",
    "# 4:00 PM     28\n",
    "# 11:00 AM    25\n",
    "# 1:00 PM     17\n",
    "# 5:00 PM     17\n",
    "# 9:00 AM      5\n",
    "# Name: Time Block, dtype: int64\n",
    "\n",
    "# order of time blocks determined by count"
   ]
  },
  {
   "cell_type": "markdown",
   "id": "446048d3",
   "metadata": {},
   "source": [
    "<span style=\"background-color:orangered; color:orangered;\">- - - - - - - - - - - - - - - - - - - - - - - - - - - - - - - - - - - - - - - - - - - - - - - - - - - - - - - - - - - - - - - - - - - - - - - - - - - - - - - - - - - - - - - - -</span>"
   ]
  },
  {
   "cell_type": "markdown",
   "id": "366bfb19",
   "metadata": {},
   "source": [
    "## Cleaning Your Data \n",
    "\n",
    "Clean your Data Set by checking for missing data, irregular data, unnecessary data, and inconsistent data.\n",
    "\n",
    "**Questions to Answer:**\n",
    "1. Are there any duplicates in the two data sets?\n",
    "1. Is any of the data in these two data sets unnecessary?\n",
    "1. Incoming wait time is null in many places.  Do all of those places correspond to outgoing calls?\n",
    "1. In the north data set, there are 2 separate \"YES\" values for a sale.  Why and how do you rectify the issue?  "
   ]
  },
  {
   "cell_type": "markdown",
   "id": "c3564d69",
   "metadata": {},
   "source": [
    "#### Question 1:\n",
    "No\n",
    "\n",
    "#### Question 2: \n",
    "No (at least not for the purpose of this exrecise)"
   ]
  },
  {
   "cell_type": "markdown",
   "id": "715f375a",
   "metadata": {},
   "source": [
    "<span style=\"color:orangered;\">- - - - - - - - - - - - - - - - - - - - - - - - - - - - - - - - - - - - - - - - - - - - - - - - - - - - - - - - - - - - - - - - - - - - - - - - - - - - - - - - - - - - - - - - -</span>\n",
    "#### Cleaning Question 3:  Do all of the Incoming Wait Time null values correspond to outgoing calls?  \n",
    "##### Option 1: using value_counts() only"
   ]
  },
  {
   "cell_type": "code",
   "execution_count": 198,
   "id": "2323673a",
   "metadata": {},
   "outputs": [],
   "source": [
    "# north_in_out_check = north[\"Incoming or Outgoing\"].value_counts()\n",
    "# north_in_out_check\n",
    "\n",
    "# OUTPUT:\n",
    "# Outgoing    163\n",
    "# Incoming     82\n",
    "# Name: Incoming or Outgoing, dtype: int64\n",
    "\n",
    "# north_iwt = north[\"Incoming Wait Time\"].value_counts(dropna=False)\n",
    "# north_iwt\n",
    "\n",
    "# OUTPUT\n",
    "# NaN    163\n",
    "# 4.0     20\n",
    "# 5.0     17\n",
    "# 1.0     17\n",
    "# 2.0     16\n",
    "# 3.0     12\n",
    "# Name: Incoming Wait Time, dtype: int64"
   ]
  },
  {
   "cell_type": "markdown",
   "id": "5c2ced2f",
   "metadata": {},
   "source": [
    "##### Option 2: Create 2 tables based on incoming and outgoing then apply value_counts.  \n",
    "\n",
    "Resource: https://pandas.pydata.org/docs/getting_started/intro_tutorials/03_subset_data.html"
   ]
  },
  {
   "cell_type": "code",
   "execution_count": 199,
   "id": "9aba945f",
   "metadata": {},
   "outputs": [],
   "source": [
    "# Question 1: Option 2 --> created 2 tables based on incoming/outgoing and then counted incoming wait time. more exact.\n",
    "\n",
    "        \n",
    "# Table 1:  Table containing ONLY outgoing calls from the north branch\n",
    "# north_out_table = north[north[\"Incoming or Outgoing\"] == \"Outgoing\"]\n",
    "# north_out_table[\"Incoming Wait Time\"].value_counts()\n",
    "\n",
    "# OUTPUT\n",
    "# Series([], Name: Incoming Wait Time, dtype: int64)\n",
    "\n",
    "# Table 2: Table containing ONLY incoming calls from the north branch\n",
    "# north_in_table = north[north[\"Incoming or Outgoing\"] == \"Incoming\"]\n",
    "# north_in_table[\"Incoming Wait Time\"].value_counts()\n",
    "\n",
    "# OUTPUT\n",
    "# 4.0    20\n",
    "# 5.0    17\n",
    "# 1.0    17\n",
    "# 2.0    16\n",
    "# 3.0    12"
   ]
  },
  {
   "cell_type": "markdown",
   "id": "8ffaa865",
   "metadata": {},
   "source": [
    "<span style=\"color:orangered;\">- - - - - - - - - - - - - - - - - - - - - - - - - - - - - - - - - - - - - - - - - - - - - - - - - - - - - - - - - - - - - - - - - - - - - - - - - - - - - - - - - - - - - - - - -</span>\n",
    "#### Cleaning Question 4:  In the north data set, there are 2 separate \"YES\" values for a sale. Why and how do you rectify the issue? "
   ]
  },
  {
   "cell_type": "code",
   "execution_count": 200,
   "id": "78b45e70",
   "metadata": {},
   "outputs": [],
   "source": [
    "# yes_check = north[\"Sale\"].value_counts()\n",
    "# yes_check\n",
    "\n",
    "    # OUTPUT\n",
    "    # NO      234\n",
    "    # YES      10\n",
    "    # YES       1  # This yes is located in row 19\n",
    "    # Name: Sale, dtype: int64\n",
    "\n",
    "#SYNTAX USED:\n",
    "# new_yes = north[\"Sale\"].str.replace(\"YES \", \"YES\")  # There is an extra space after the \"YES \"\n",
    "# new_yes.value_counts()\n",
    "# north[\"Sale\"] = new_yes\n",
    "# north[\"Sale\"].value_counts()\n",
    "\n",
    "    #OUTPUT\n",
    "    # NO     234\n",
    "    # YES     11\n",
    "    # Name: Sale, dtype: int64"
   ]
  },
  {
   "cell_type": "markdown",
   "id": "f67d89ab",
   "metadata": {},
   "source": [
    "<span style=\"background-color:orangered; color:orangered;\">- - - - - - - - - - - - - - - - - - - - - - - - - - - - - - - - - - - - - - - - - - - - - - - - - - - - - - - - - - - - - - - - - - - - - - - - - - - - - - - - - - - - - - - - -</span>"
   ]
  },
  {
   "cell_type": "markdown",
   "id": "73342a9a",
   "metadata": {},
   "source": [
    "## Data Manipuation\n",
    "\n",
    "Before you begin answering any questions, combine the two datasets together to create a third dataframe called df. You can use this third dataframe to compare the two call centers to company-wide trends.\n",
    "\n",
    "1. Group by Rep ID and sum the resulting structure. Sort by calls to determine which rep in each branch has the highest number of calls.\n",
    "1. The average call abandonment rate is a KPI when it comes to determining call center efficiency. As you may recall, abandoned calls are calls where the customer hangs up due to long call times. What is the average call abandonment rate for each branch and the whole company? Do any of these fall out of the optimal range of 2-5%?\n",
    "1. Service level is another KPI when it comes to measuring call center efficiency. Service level is the percentage of calls answered within a specific number of seconds. In the case of your employer, their ideal time frame is 2 seconds. What is the percentage of calls answered within 2 seconds for each company and the entire company?\n",
    "1. For each branch and the entire company, what is the average speed of answer?"
   ]
  },
  {
   "cell_type": "markdown",
   "id": "7e87dfd1",
   "metadata": {},
   "source": [
    "<span style=\"color:orangered;\">- - - - - - - - - - - - - - - - - - - - - - - - - - - - - - - - - - - - - - - - - - - - - - - - - - - - - - - - - - - - - - - - - - - - - - - - - - - - - - - - - - - - - - - - -</span>\n",
    "#### Manipulation Question 1:  Sort by calls to determine which rep in each branch has the highest number of calls"
   ]
  },
  {
   "cell_type": "code",
   "execution_count": 201,
   "id": "3953f09a",
   "metadata": {},
   "outputs": [],
   "source": [
    "# OUTPUT is a table listing each rep and their total number of calls:  \n",
    "  # In the NORTH branch, Brent has 37 calls.  \n",
    "  # In the SOUTH branch, Eric has 35 calls\n",
    "\n",
    "#SYNTAX USED:\n",
    "# north_reps = north.groupby(\"Rep ID\").sum()\n",
    "# north_reps.sort_values(\"Calls\", ascending=False)"
   ]
  },
  {
   "cell_type": "markdown",
   "id": "809293b9",
   "metadata": {},
   "source": [
    "<span style=\"color:orangered;\">- - - - - - - - - - - - - - - - - - - - - - - - - - - - - - - - - - - - - - - - - - - - - - - - - - - - - - - - - - - - - - - - - - - - - - - - - - - - - - - - - - - - - - - - -</span>\n",
    "#### Manipulation Question 2:  What is the average call abandonment rate for each branch and the whole company? Do any of these fall out of the optimal range of 2-5%?"
   ]
  },
  {
   "cell_type": "code",
   "execution_count": 202,
   "id": "3dff7534",
   "metadata": {},
   "outputs": [],
   "source": [
    "# data frame for the entire company\n",
    "df = north.append(south)\n",
    "\n",
    "# Average Call Abandonment Rates \n",
    "    # NORTH = 2.86% (rounding up to students)\n",
    "    # SOUTH = 1.27%\n",
    "    # COMPANY = 1.97%\n",
    "\n",
    "#SYNTAX USED:\n",
    "# avg_aban_rate_n = ((north[\"Abandoned\"].sum()/north[\"Calls\"].sum())*100).round(2)\n",
    "# avg_aban_rate_n"
   ]
  },
  {
   "cell_type": "markdown",
   "id": "598bb1bf",
   "metadata": {},
   "source": [
    "<span style=\"color:orangered;\">- - - - - - - - - - - - - - - - - - - - - - - - - - - - - - - - - - - - - - - - - - - - - - - - - - - - - - - - - - - - - - - - - - - - - - - - - - - - - - - - - - - - - - - - -</span>\n",
    "#### Manipulation Question 3:  What is the percentage of calls answered within 2 seconds for each branch and the entire company?"
   ]
  },
  {
   "cell_type": "code",
   "execution_count": 203,
   "id": "2fc8f669",
   "metadata": {},
   "outputs": [],
   "source": [
    "# Question 3:\n",
    "\n",
    "# NORTH 33 calls & 13.47%\n",
    "# SOUTH 48 calls & 15.29%\n",
    "# COMPANY 81 calls & 14.49%\n",
    "\n",
    "# SYNTAX USED:\n",
    "# seconds_n = (north[\"Incoming Wait Time\"] <= 2.0).sum()\n",
    "# n_call_eff = (seconds_n/north[\"Calls\"].sum()*100).round(2)\n",
    "# n_call_eff"
   ]
  },
  {
   "cell_type": "code",
   "execution_count": 204,
   "id": "72a653ed",
   "metadata": {},
   "outputs": [],
   "source": [
    "# Question 4: \n",
    "\n",
    "# COMPANY average speed of answer = 3.019231 seconds\n",
    "# NORTH average speed of answer =  3.048780 seconds\n",
    "# SOUTH average speed of answer = 3.000000 seconds\n",
    "\n",
    "#SYNTAX USED:\n",
    "    # Option 1: describe()\n",
    "# df.describe() # Look at Incoming Wait Time\n",
    "\n",
    "    # Option 2: agg()\n",
    "# company_avg = df[\"Incoming Wait Time\"].agg(\"mean\")\n",
    "# company_avg"
   ]
  },
  {
   "cell_type": "markdown",
   "id": "ba3ca2cd",
   "metadata": {},
   "source": [
    "<span style=\"background-color:orangered; color:orangered;\">- - - - - - - - - - - - - - - - - - - - - - - - - - - - - - - - - - - - - - - - - - - - - - - - - - - - - - - - - - - - - - - - - - - - - - - - - - - - - - - - - - - - - - - - -</span>"
   ]
  },
  {
   "cell_type": "markdown",
   "id": "d5f50a40",
   "metadata": {},
   "source": [
    "## Visualization\n",
    "\n",
    "For each chart you created, eplain why you chose the chart style.\n",
    "\n",
    "1. Abandonment Rate per Queue\n",
    "1. What is the service level and average speed of answer per each rep?  <--\n",
    "1. For each type of call purpose, how many calls are outgoing vs incoming?  \n",
    " "
   ]
  },
  {
   "cell_type": "code",
   "execution_count": 206,
   "id": "a933fb27",
   "metadata": {},
   "outputs": [
    {
     "data": {
      "image/png": "[encoded data removed]",
      "text/plain": [
       "<Figure size 432x288 with 1 Axes>"
      ]
     },
     "metadata": {
      "needs_background": "light"
     },
     "output_type": "display_data"
    }
   ],
   "source": [
    "# average speed of answer = average incoming wait time per rep\n",
    "north_plt = north.groupby(\"Rep ID\")[\"Incoming Wait Time\"].mean().to_frame().reset_index()\n",
    "\n",
    "plt.title('Average Speed of Answer per Rep in Seconds')\n",
    "plt.xlabel('Reps')\n",
    "plt.ylabel('Seconds')\n",
    "\n",
    "plt.bar(north_plt[\"Rep ID\"], north_plt[\"Incoming Wait Time\"])\n",
    "plt.show()\n",
    "\n",
    "#Plotted using Matplotlib (https://matplotlib.org/stable/api/_as_gen/matplotlib.pyplot.bar.html)"
   ]
  },
  {
   "cell_type": "code",
   "execution_count": 238,
   "id": "e475bac7",
   "metadata": {},
   "outputs": [
    {
     "data": {
      "text/plain": [
       "<AxesSubplot:xlabel='Rep ID'>"
      ]
     },
     "execution_count": 238,
     "metadata": {},
     "output_type": "execute_result"
    },
    {
     "data": {
      "image/png": "[encoded data removed]",
      "text/plain": [
       "<Figure size 432x288 with 1 Axes>"
      ]
     },
     "metadata": {
      "needs_background": "light"
     },
     "output_type": "display_data"
    }
   ],
   "source": [
    "# Finding each Rep's Personal Service Level Percentage.  Basically, Calls within 2 secs / total calls\n",
    "\n",
    "# Table 1: Total Incoming calls less than 2 seconds grouped by Rep\n",
    "quick_calls = north[north[\"Incoming Wait Time\"] <= 2.0]\n",
    "quick_reps = quick_calls[[\"Rep ID\", \"Calls\"]]\n",
    "quick_stats = quick_reps.groupby([\"Rep ID\"]).sum()  # Final Table\n",
    "\n",
    "\n",
    "# Table 2: Total Incoming Calls Only grouped by Rep\n",
    "total_calls_in = north[north[\"Incoming or Outgoing\"] == \"Incoming\"]\n",
    "rep_calls = total_calls_in[[\"Rep ID\", \"Calls\"]]     \n",
    "total_stats = rep_calls.groupby([\"Rep ID\"]).sum() # Final Table  \n",
    "\n",
    "#  Table 3: Service Level Percentage created via merge\n",
    "service_level = pd.merge(quick_stats, total_stats, on=\"Rep ID\")\n",
    "\n",
    "# Create Percentage Column in Table 3\n",
    "service_level[\"Service Level %\"] = service_level[\"Calls_x\"]/service_level[\"Calls_y\"] * 100\n",
    "\n",
    "service_level.plot(y=\"Service Level %\", kind=\"bar\", color=[\"red\"])\n",
    "# Plotted using pandas plot() (https://pandas.pydata.org/docs/reference/api/pandas.DataFrame.plot.html)"
   ]
  },
  {
   "cell_type": "markdown",
   "id": "3d4cbace",
   "metadata": {},
   "source": [
    "## Submit Your Work\n",
    "\n",
    "After you have completed your work on the assignment, copy the link to your assignment and paste the URL in Canvas."
   ]
  },
  {
   "cell_type": "markdown",
   "id": "ce16f43d",
   "metadata": {},
   "source": [
    "## Bonus Mission\n",
    "\n",
    "1. For each call purpose, how many calls (incoming and outgoing) take place in each time block?"
   ]
  },
  {
   "cell_type": "code",
   "execution_count": 239,
   "id": "7b60ad40",
   "metadata": {},
   "outputs": [
    {
     "data": {
      "text/html": [
       "<div>\n",
       "<style scoped>\n",
       "    .dataframe tbody tr th:only-of-type {\n",
       "        vertical-align: middle;\n",
       "    }\n",
       "\n",
       "    .dataframe tbody tr th {\n",
       "        vertical-align: top;\n",
       "    }\n",
       "\n",
       "    .dataframe thead th {\n",
       "        text-align: right;\n",
       "    }\n",
       "</style>\n",
       "<table border=\"1\" class=\"dataframe\">\n",
       "  <thead>\n",
       "    <tr style=\"text-align: right;\">\n",
       "      <th></th>\n",
       "      <th>Unnamed: 0</th>\n",
       "      <th>Branch</th>\n",
       "      <th>Call Purpose</th>\n",
       "      <th>Time Block</th>\n",
       "      <th>Incoming or Outgoing</th>\n",
       "      <th>Queue</th>\n",
       "      <th>Rep ID</th>\n",
       "      <th>Sale</th>\n",
       "      <th>Lost Call</th>\n",
       "      <th>Abandoned</th>\n",
       "      <th>Busy Minutes</th>\n",
       "      <th>Not Ready Minutes</th>\n",
       "      <th>Incoming Wait Time</th>\n",
       "      <th>During Call Wait Time</th>\n",
       "      <th>Calls</th>\n",
       "    </tr>\n",
       "  </thead>\n",
       "  <tbody>\n",
       "    <tr>\n",
       "      <th>0</th>\n",
       "      <td>0</td>\n",
       "      <td>North</td>\n",
       "      <td>Complaint</td>\n",
       "      <td>9:00 AM</td>\n",
       "      <td>Incoming</td>\n",
       "      <td>B</td>\n",
       "      <td>Brent</td>\n",
       "      <td>NO</td>\n",
       "      <td>0</td>\n",
       "      <td>1</td>\n",
       "      <td>9</td>\n",
       "      <td>2</td>\n",
       "      <td>1.0</td>\n",
       "      <td>4</td>\n",
       "      <td>1</td>\n",
       "    </tr>\n",
       "    <tr>\n",
       "      <th>1</th>\n",
       "      <td>1</td>\n",
       "      <td>North</td>\n",
       "      <td>Sales Support</td>\n",
       "      <td>11:00 AM</td>\n",
       "      <td>Incoming</td>\n",
       "      <td>A</td>\n",
       "      <td>Cam</td>\n",
       "      <td>NO</td>\n",
       "      <td>0</td>\n",
       "      <td>0</td>\n",
       "      <td>11</td>\n",
       "      <td>1</td>\n",
       "      <td>1.0</td>\n",
       "      <td>3</td>\n",
       "      <td>1</td>\n",
       "    </tr>\n",
       "    <tr>\n",
       "      <th>2</th>\n",
       "      <td>2</td>\n",
       "      <td>North</td>\n",
       "      <td>Sales Support</td>\n",
       "      <td>11:00 AM</td>\n",
       "      <td>Incoming</td>\n",
       "      <td>B</td>\n",
       "      <td>Todd</td>\n",
       "      <td>NO</td>\n",
       "      <td>0</td>\n",
       "      <td>0</td>\n",
       "      <td>9</td>\n",
       "      <td>3</td>\n",
       "      <td>1.0</td>\n",
       "      <td>3</td>\n",
       "      <td>1</td>\n",
       "    </tr>\n",
       "    <tr>\n",
       "      <th>3</th>\n",
       "      <td>3</td>\n",
       "      <td>North</td>\n",
       "      <td>Sales Support</td>\n",
       "      <td>4:00 PM</td>\n",
       "      <td>Incoming</td>\n",
       "      <td>B</td>\n",
       "      <td>Brent</td>\n",
       "      <td>NO</td>\n",
       "      <td>0</td>\n",
       "      <td>0</td>\n",
       "      <td>11</td>\n",
       "      <td>2</td>\n",
       "      <td>1.0</td>\n",
       "      <td>4</td>\n",
       "      <td>1</td>\n",
       "    </tr>\n",
       "    <tr>\n",
       "      <th>4</th>\n",
       "      <td>4</td>\n",
       "      <td>North</td>\n",
       "      <td>Product Support</td>\n",
       "      <td>12:00 PM</td>\n",
       "      <td>Incoming</td>\n",
       "      <td>B</td>\n",
       "      <td>Brent</td>\n",
       "      <td>NO</td>\n",
       "      <td>0</td>\n",
       "      <td>0</td>\n",
       "      <td>8</td>\n",
       "      <td>2</td>\n",
       "      <td>1.0</td>\n",
       "      <td>4</td>\n",
       "      <td>1</td>\n",
       "    </tr>\n",
       "  </tbody>\n",
       "</table>\n",
       "</div>"
      ],
      "text/plain": [
       "   Unnamed: 0 Branch     Call Purpose Time Block Incoming or Outgoing Queue  \\\n",
       "0           0  North        Complaint    9:00 AM             Incoming     B   \n",
       "1           1  North    Sales Support   11:00 AM             Incoming     A   \n",
       "2           2  North    Sales Support   11:00 AM             Incoming     B   \n",
       "3           3  North    Sales Support    4:00 PM             Incoming     B   \n",
       "4           4  North  Product Support   12:00 PM             Incoming     B   \n",
       "\n",
       "  Rep ID Sale  Lost Call  Abandoned  Busy Minutes  Not Ready Minutes  \\\n",
       "0  Brent   NO          0          1             9                  2   \n",
       "1    Cam   NO          0          0            11                  1   \n",
       "2   Todd   NO          0          0             9                  3   \n",
       "3  Brent   NO          0          0            11                  2   \n",
       "4  Brent   NO          0          0             8                  2   \n",
       "\n",
       "   Incoming Wait Time  During Call Wait Time  Calls  \n",
       "0                 1.0                      4      1  \n",
       "1                 1.0                      3      1  \n",
       "2                 1.0                      3      1  \n",
       "3                 1.0                      4      1  \n",
       "4                 1.0                      4      1  "
      ]
     },
     "execution_count": 239,
     "metadata": {},
     "output_type": "execute_result"
    }
   ],
   "source": [
    "north.head()"
   ]
  },
  {
   "cell_type": "code",
   "execution_count": 240,
   "id": "50b726c3",
   "metadata": {},
   "outputs": [
    {
     "data": {
      "text/html": [
       "<div>\n",
       "<style scoped>\n",
       "    .dataframe tbody tr th:only-of-type {\n",
       "        vertical-align: middle;\n",
       "    }\n",
       "\n",
       "    .dataframe tbody tr th {\n",
       "        vertical-align: top;\n",
       "    }\n",
       "\n",
       "    .dataframe thead th {\n",
       "        text-align: right;\n",
       "    }\n",
       "</style>\n",
       "<table border=\"1\" class=\"dataframe\">\n",
       "  <thead>\n",
       "    <tr style=\"text-align: right;\">\n",
       "      <th></th>\n",
       "      <th>Calls</th>\n",
       "      <th>Time Block</th>\n",
       "      <th>Call Purpose</th>\n",
       "    </tr>\n",
       "  </thead>\n",
       "  <tbody>\n",
       "    <tr>\n",
       "      <th>0</th>\n",
       "      <td>1</td>\n",
       "      <td>9:00 AM</td>\n",
       "      <td>Complaint</td>\n",
       "    </tr>\n",
       "    <tr>\n",
       "      <th>1</th>\n",
       "      <td>1</td>\n",
       "      <td>11:00 AM</td>\n",
       "      <td>Sales Support</td>\n",
       "    </tr>\n",
       "    <tr>\n",
       "      <th>2</th>\n",
       "      <td>1</td>\n",
       "      <td>11:00 AM</td>\n",
       "      <td>Sales Support</td>\n",
       "    </tr>\n",
       "    <tr>\n",
       "      <th>3</th>\n",
       "      <td>1</td>\n",
       "      <td>4:00 PM</td>\n",
       "      <td>Sales Support</td>\n",
       "    </tr>\n",
       "    <tr>\n",
       "      <th>4</th>\n",
       "      <td>1</td>\n",
       "      <td>12:00 PM</td>\n",
       "      <td>Product Support</td>\n",
       "    </tr>\n",
       "  </tbody>\n",
       "</table>\n",
       "</div>"
      ],
      "text/plain": [
       "   Calls Time Block     Call Purpose\n",
       "0      1    9:00 AM        Complaint\n",
       "1      1   11:00 AM    Sales Support\n",
       "2      1   11:00 AM    Sales Support\n",
       "3      1    4:00 PM    Sales Support\n",
       "4      1   12:00 PM  Product Support"
      ]
     },
     "execution_count": 240,
     "metadata": {},
     "output_type": "execute_result"
    }
   ],
   "source": [
    "call_times = north[[\"Calls\", \"Time Block\", \"Call Purpose\"]]\n",
    "call_times.head()"
   ]
  },
  {
   "cell_type": "code",
   "execution_count": 242,
   "id": "0af03881",
   "metadata": {},
   "outputs": [
    {
     "data": {
      "text/plain": [
       "Product Support    145\n",
       "Sales Support       85\n",
       "Complaint           15\n",
       "Name: Call Purpose, dtype: int64"
      ]
     },
     "execution_count": 242,
     "metadata": {},
     "output_type": "execute_result"
    }
   ],
   "source": [
    "sales_calls = call_times[\"Call Purpose\"].value_counts()\n",
    "sales_calls"
   ]
  },
  {
   "cell_type": "code",
   "execution_count": null,
   "id": "ad421404",
   "metadata": {},
   "outputs": [],
   "source": []
  }
 ],
 "metadata": {
  "kernelspec": {
   "display_name": "Python 3",
   "language": "python",
   "name": "python3"
  },
  "language_info": {
   "codemirror_mode": {
    "name": "ipython",
    "version": 3
   },
   "file_extension": ".py",
   "mimetype": "text/x-python",
   "name": "python",
   "nbconvert_exporter": "python",
   "pygments_lexer": "ipython3",
   "version": "3.8.8"
  }
 },
 "nbformat": 4,
 "nbformat_minor": 5
}

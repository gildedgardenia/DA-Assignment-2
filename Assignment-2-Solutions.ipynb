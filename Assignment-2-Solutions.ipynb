{
 "cells": [
  {
   "cell_type": "markdown",
   "id": "d1cdbf8f",
   "metadata": {},
   "source": [
    "# Data Analysis Assignment 2: Call Center Cleanup Solutions"
   ]
  },
  {
   "cell_type": "code",
   "execution_count": null,
   "id": "f362436b",
   "metadata": {},
   "outputs": [],
   "source": [
    "import pandas as pd\n",
    "import matplotlib.pyplot as plt\n",
    "\n",
    "north = pd.read_csv(\"NorthCallCenter.csv\")\n",
    "south = pd.read_csv(\"SouthCallCenter.csv\")"
   ]
  },
  {
   "cell_type": "markdown",
   "id": "37f77cd4",
   "metadata": {},
   "source": [
    "<span style=\"background-color:orangered; color:orangered;\">- - - - - - - - - - - - - - - - - - - - - - - - - - - - - - - - - - - - - - - - - - - - - - - - - - - - - - - - - - - - - - - - - - - - - - - - - - - - - - - - - - - - - - - - -</span>"
   ]
  },
  {
   "cell_type": "markdown",
   "id": "b4d3484b",
   "metadata": {},
   "source": [
    "## Exploratory Data Analysis"
   ]
  },
  {
   "cell_type": "markdown",
   "id": "76898991",
   "metadata": {},
   "source": [
    "#### EDA Question 1:  How many reps are in each branch?  "
   ]
  },
  {
   "cell_type": "code",
   "execution_count": null,
   "id": "ce3eb5e4",
   "metadata": {},
   "outputs": [],
   "source": [
    "# Option using value_counts() \n",
    "# 9 in NORTH\n",
    "# 11 in SOUTH\n",
    "\n",
    "#SYNTAX USED:\n",
    "# north_reps = north[\"Rep ID\"].value_counts().count()\n",
    "# north_reps"
   ]
  },
  {
   "cell_type": "code",
   "execution_count": null,
   "id": "3c715bbf",
   "metadata": {},
   "outputs": [],
   "source": [
    "# Option using nunique()\n",
    "\n",
    "# north_number_reps = north[\"Rep ID\"].nunique()  # 9 reps in NORTH\n",
    "\n",
    "# south_number_reps = south[\"Rep ID\"].nunique()  # 11 reps in SOUTH\n"
   ]
  },
  {
   "cell_type": "markdown",
   "id": "a872f045",
   "metadata": {},
   "source": [
    "#### EDA Question 2:  What is the average busy minutes, not ready minutes, incoming wait time, and during call wait time for each branch? "
   ]
  },
  {
   "cell_type": "code",
   "execution_count": null,
   "id": "3759305f",
   "metadata": {},
   "outputs": [],
   "source": [
    "# Question 2:\n",
    "# north.describe()\n",
    "# south.describe()"
   ]
  },
  {
   "cell_type": "markdown",
   "id": "75915553",
   "metadata": {},
   "source": [
    "#### EDA Question 3:  What is the number of calls taken for each time block?"
   ]
  },
  {
   "cell_type": "code",
   "execution_count": null,
   "id": "49566936",
   "metadata": {},
   "outputs": [],
   "source": [
    "# Question 3: \n",
    "# north_calls_per_time_block = north[\"Time Block\"].value_counts()\n",
    "# north_calls_per_time_block\n",
    "\n",
    "# OUTPUT\n",
    "# 12:00 PM    45\n",
    "# 10:00 AM    43\n",
    "# 2:00 PM     35\n",
    "# 3:00 PM     30\n",
    "# 4:00 PM     28\n",
    "# 11:00 AM    25\n",
    "# 1:00 PM     17\n",
    "# 5:00 PM     17\n",
    "# 9:00 AM      5\n",
    "# Name: Time Block, dtype: int64\n",
    "\n",
    "# order of time blocks determined by count"
   ]
  },
  {
   "cell_type": "markdown",
   "id": "446048d3",
   "metadata": {},
   "source": [
    "<span style=\"background-color:orangered; color:orangered;\">- - - - - - - - - - - - - - - - - - - - - - - - - - - - - - - - - - - - - - - - - - - - - - - - - - - - - - - - - - - - - - - - - - - - - - - - - - - - - - - - - - - - - - - - -</span>"
   ]
  },
  {
   "cell_type": "markdown",
   "id": "366bfb19",
   "metadata": {},
   "source": [
    "## Cleaning Your Data "
   ]
  },
  {
   "cell_type": "markdown",
   "id": "c3564d69",
   "metadata": {},
   "source": [
    "#### Question 1:  No\n",
    "\n",
    "#### Question 2:  No (at least not for the purpose of this exrecise)"
   ]
  },
  {
   "cell_type": "markdown",
   "id": "715f375a",
   "metadata": {},
   "source": [
    "#### Cleaning Question 3:  Do all of the Incoming Wait Time null values correspond to outgoing calls?  \n",
    "##### Option 1: using value_counts() only"
   ]
  },
  {
   "cell_type": "code",
   "execution_count": null,
   "id": "2323673a",
   "metadata": {},
   "outputs": [],
   "source": [
    "# north_in_out_check = north[\"Incoming or Outgoing\"].value_counts()\n",
    "# north_in_out_check\n",
    "\n",
    "# OUTPUT:\n",
    "# Outgoing    163\n",
    "# Incoming     82\n",
    "# Name: Incoming or Outgoing, dtype: int64\n",
    "\n",
    "# north_iwt = north[\"Incoming Wait Time\"].value_counts(dropna=False)\n",
    "# north_iwt\n",
    "\n",
    "# OUTPUT\n",
    "# NaN    163\n",
    "# 4.0     20\n",
    "# 5.0     17\n",
    "# 1.0     17\n",
    "# 2.0     16\n",
    "# 3.0     12\n",
    "# Name: Incoming Wait Time, dtype: int64"
   ]
  },
  {
   "cell_type": "markdown",
   "id": "5c2ced2f",
   "metadata": {},
   "source": [
    "##### Option 2: Create 2 tables based on incoming and outgoing then apply value_counts.  \n",
    "\n",
    "Resource: https://pandas.pydata.org/docs/getting_started/intro_tutorials/03_subset_data.html"
   ]
  },
  {
   "cell_type": "code",
   "execution_count": null,
   "id": "9aba945f",
   "metadata": {},
   "outputs": [],
   "source": [
    "# Question 1: Option 2 --> created 2 tables based on incoming/outgoing and then counted incoming wait time. more exact.\n",
    "\n",
    "        \n",
    "# Table 1:  Table containing ONLY outgoing calls from the north branch\n",
    "# north_out_table = north[north[\"Incoming or Outgoing\"] == \"Outgoing\"]\n",
    "# north_out_table[\"Incoming Wait Time\"].value_counts()\n",
    "\n",
    "# OUTPUT\n",
    "# Series([], Name: Incoming Wait Time, dtype: int64)\n",
    "\n",
    "# Table 2: Table containing ONLY incoming calls from the north branch\n",
    "# north_in_table = north[north[\"Incoming or Outgoing\"] == \"Incoming\"]\n",
    "# north_in_table[\"Incoming Wait Time\"].value_counts()\n",
    "\n",
    "# OUTPUT\n",
    "# 4.0    20\n",
    "# 5.0    17\n",
    "# 1.0    17\n",
    "# 2.0    16\n",
    "# 3.0    12"
   ]
  },
  {
   "cell_type": "markdown",
   "id": "8ffaa865",
   "metadata": {},
   "source": [
    "#### Cleaning Question 4:  In the north data set, there are 2 separate \"YES\" values for a sale. Why and how do you rectify the issue? "
   ]
  },
  {
   "cell_type": "code",
   "execution_count": null,
   "id": "78b45e70",
   "metadata": {},
   "outputs": [],
   "source": [
    "# yes_check = north[\"Sale\"].value_counts()\n",
    "# yes_check\n",
    "\n",
    "    # OUTPUT\n",
    "    # NO      234\n",
    "    # YES      10\n",
    "    # YES       1  # This yes is located in row 19\n",
    "    # Name: Sale, dtype: int64\n",
    "\n",
    "#SYNTAX USED:\n",
    "# new_yes = north[\"Sale\"].str.replace(\"YES \", \"YES\")  # There is an extra space after the \"YES \"\n",
    "# new_yes.value_counts()\n",
    "# north[\"Sale\"] = new_yes\n",
    "# north[\"Sale\"].value_counts()\n",
    "\n",
    "    #OUTPUT\n",
    "    # NO     234\n",
    "    # YES     11\n",
    "    # Name: Sale, dtype: int64"
   ]
  },
  {
   "cell_type": "markdown",
   "id": "f67d89ab",
   "metadata": {},
   "source": [
    "<span style=\"background-color:orangered; color:orangered;\">- - - - - - - - - - - - - - - - - - - - - - - - - - - - - - - - - - - - - - - - - - - - - - - - - - - - - - - - - - - - - - - - - - - - - - - - - - - - - - - - - - - - - - - - -</span>"
   ]
  },
  {
   "cell_type": "markdown",
   "id": "73342a9a",
   "metadata": {},
   "source": [
    "## Data Manipuation"
   ]
  },
  {
   "cell_type": "markdown",
   "id": "7e87dfd1",
   "metadata": {},
   "source": [
    "#### Manipulation Question 1:  Sort by calls to determine which rep in each branch has the highest number of calls"
   ]
  },
  {
   "cell_type": "code",
   "execution_count": null,
   "id": "3953f09a",
   "metadata": {},
   "outputs": [],
   "source": [
    "# OUTPUT is a table listing each rep and their total number of calls:  \n",
    "  # In the NORTH branch, Brent has 37 calls.  \n",
    "  # In the SOUTH branch, Eric has 35 calls\n",
    "\n",
    "#SYNTAX USED:\n",
    "# north_reps = north.groupby(\"Rep ID\").sum()\n",
    "# north_reps.sort_values(\"Calls\", ascending=False)"
   ]
  },
  {
   "cell_type": "markdown",
   "id": "809293b9",
   "metadata": {},
   "source": [
    "#### Manipulation Question 2:  What is the average call abandonment rate for each branch and the whole company? Do any of these fall out of the optimal range of 2-5%?"
   ]
  },
  {
   "cell_type": "code",
   "execution_count": null,
   "id": "3dff7534",
   "metadata": {},
   "outputs": [],
   "source": [
    "# data frame for the entire company\n",
    "df = north.append(south)\n",
    "\n",
    "# Average Call Abandonment Rates \n",
    "    # NORTH = 2.86% (rounding up to students)\n",
    "    # SOUTH = 1.27%\n",
    "    # COMPANY = 1.97%\n",
    "\n",
    "#SYNTAX USED:\n",
    "# avg_aban_rate_n = ((north[\"Abandoned\"].sum()/north[\"Calls\"].sum())*100).round(2)\n",
    "# avg_aban_rate_n"
   ]
  },
  {
   "cell_type": "markdown",
   "id": "598bb1bf",
   "metadata": {},
   "source": [
    "#### Manipulation Question 3:  What is the percentage of calls answered within 2 seconds for each branch and the entire company?"
   ]
  },
  {
   "cell_type": "code",
   "execution_count": null,
   "id": "2fc8f669",
   "metadata": {},
   "outputs": [],
   "source": [
    "# Question 3:\n",
    "\n",
    "# NORTH 33 calls & 13.47%\n",
    "# SOUTH 48 calls & 15.29%\n",
    "# COMPANY 81 calls & 14.49%\n",
    "\n",
    "# SYNTAX USED:\n",
    "# seconds_n = (north[\"Incoming Wait Time\"] <= 2.0).sum()\n",
    "# n_call_eff = (seconds_n/north[\"Calls\"].sum()*100).round(2)\n",
    "# n_call_eff"
   ]
  },
  {
   "cell_type": "code",
   "execution_count": null,
   "id": "72a653ed",
   "metadata": {},
   "outputs": [],
   "source": [
    "# Question 4: \n",
    "\n",
    "# COMPANY average speed of answer = 3.019231 seconds\n",
    "# NORTH average speed of answer =  3.048780 seconds\n",
    "# SOUTH average speed of answer = 3.000000 seconds\n",
    "\n",
    "#SYNTAX USED:\n",
    "    # Option 1: describe()\n",
    "# df.describe() # Look at Incoming Wait Time\n",
    "\n",
    "    # Option 2: agg()\n",
    "# company_avg = df[\"Incoming Wait Time\"].agg(\"mean\")\n",
    "# company_avg"
   ]
  },
  {
   "cell_type": "markdown",
   "id": "ba3ca2cd",
   "metadata": {},
   "source": [
    "<span style=\"background-color:orangered; color:orangered;\">- - - - - - - - - - - - - - - - - - - - - - - - - - - - - - - - - - - - - - - - - - - - - - - - - - - - - - - - - - - - - - - - - - - - - - - - - - - - - - - - - - - - - - - - -</span>"
   ]
  },
  {
   "cell_type": "markdown",
   "id": "d5f50a40",
   "metadata": {},
   "source": [
    "## Visualization"
   ]
  },
  {
   "cell_type": "markdown",
   "id": "66ccf83c",
   "metadata": {},
   "source": [
    "#### Visualization 1:  Abaondoment Rate per Queue"
   ]
  },
  {
   "cell_type": "code",
   "execution_count": null,
   "id": "c971d779",
   "metadata": {},
   "outputs": [],
   "source": [
    "import seaborn as sb\n",
    "import matplotlib.pyplot as plt\n",
    "from matplotlib import style\n",
    "\n",
    "# abandonment_rates = {}\n",
    "# queues = [\"A\", \"B\", \"C\", \"D\"]\n",
    "# queue_dict = df.groupby(\"Queue\").agg(\"sum\")\n",
    "# for i in range(4):\n",
    "#     abandonment_rates[queues[i]] = queue_dict[\"Abandoned\"][i] / queue_dict[\"Calls\"][i] \n",
    "\n",
    "# plt.bar(range(len(abandonment_rates)), list(abandonment_rates.values()), align='center')\n",
    "# plt.xticks(range(len(abandonment_rates)), list(abandonment_rates.keys()))\n",
    "# plt.show()"
   ]
  },
  {
   "cell_type": "markdown",
   "id": "4a9fc77f",
   "metadata": {},
   "source": [
    "#### Visualization 2: Service level and average speed of answer per each rep"
   ]
  },
  {
   "cell_type": "code",
   "execution_count": null,
   "id": "a933fb27",
   "metadata": {},
   "outputs": [],
   "source": [
    "# average speed of answer = average incoming wait time per rep\n",
    "# north_plt = north.groupby(\"Rep ID\")[\"Incoming Wait Time\"].mean().to_frame().reset_index()\n",
    "\n",
    "# plt.title('Average Speed of Answer per Rep in Seconds')\n",
    "# plt.xlabel('Reps')\n",
    "# plt.ylabel('Seconds')\n",
    "\n",
    "# plt.bar(north_plt[\"Rep ID\"], north_plt[\"Incoming Wait Time\"])\n",
    "# plt.show()\n",
    "\n",
    "# #Plotted using Matplotlib (https://matplotlib.org/stable/api/_as_gen/matplotlib.pyplot.bar.html)"
   ]
  },
  {
   "cell_type": "code",
   "execution_count": null,
   "id": "99667fd9",
   "metadata": {},
   "outputs": [],
   "source": [
    "# Finding each Rep's Personal Service Level Percentage.  [Calls within 2 secs / total calls]\n",
    "\n",
    "# Table 1: Total Incoming calls less than 2 seconds grouped by Rep\n",
    "# quick_calls = north[north[\"Incoming Wait Time\"] <= 2.0]\n",
    "# quick_reps = quick_calls[[\"Rep ID\", \"Calls\"]]\n",
    "# quick_stats = quick_reps.groupby([\"Rep ID\"]).sum()  # Final Table\n",
    "\n",
    "\n",
    "# # Table 2: Total Incoming Calls Only grouped by Rep\n",
    "# total_calls_in = north[north[\"Incoming or Outgoing\"] == \"Incoming\"]\n",
    "# rep_calls = total_calls_in[[\"Rep ID\", \"Calls\"]]     \n",
    "# total_stats = rep_calls.groupby([\"Rep ID\"]).sum() # Final Table  \n",
    "\n",
    "#  Table 3: Service Level Percentage created via merge\n",
    "# service_level = pd.merge(quick_stats, total_stats, on=\"Rep ID\")\n",
    "\n",
    "# Create Percentage Column in Table 3\n",
    "# service_level[\"Service Level %\"] = service_level[\"Calls_x\"]/service_level[\"Calls_y\"] * 100\n",
    "\n",
    "# service_level.plot(y=\"Service Level %\", kind=\"bar\", color=[\"red\"])\n",
    "# Plotted using pandas plot() (https://pandas.pydata.org/docs/reference/api/pandas.DataFrame.plot.html)"
   ]
  },
  {
   "cell_type": "markdown",
   "id": "f965e41a",
   "metadata": {},
   "source": [
    "#### Visualization 3: Number of calls outgoing vs incoming based on purpose"
   ]
  },
  {
   "cell_type": "code",
   "execution_count": null,
   "id": "44096730",
   "metadata": {},
   "outputs": [],
   "source": [
    "import seaborn as sb\n",
    "import matplotlib.pyplot as plt\n",
    "from matplotlib import style\n",
    "\n",
    "# purpose_group = df.groupby(\"Call Purpose\")\n",
    "# call_purposes = [\"Complaint\", \"Product Support\", \"Sales Support\"] \n",
    "# purpose_counts = purpose_group[\"Incoming or Outgoing\"].value_counts()\n",
    "# print(purpose_counts)\n",
    "# complaints = purpose_counts[\"Complaint\"].to_dict()\n",
    "# sales_support = purpose_counts[\"Sales Support\"].to_dict()\n",
    "# product_support = purpose_counts[\"Product Support\"].to_dict()\n",
    "\n",
    "# plt.bar(range(len(complaints)), list(complaints.values()), align='center')\n",
    "# plt.xticks(range(len(complaints)), list(complaints.keys()))\n",
    "# plt.show()\n",
    "\n",
    "# plt.bar(range(len(sales_support)), list(sales_support.values()), align='center')\n",
    "# plt.xticks(range(len(sales_support)), list(sales_support.keys()))\n",
    "# plt.show()\n",
    "\n",
    "# plt.bar(range(len(product_support)), list(product_support.values()), align='center')\n",
    "# plt.xticks(range(len(product_support)), list(product_support.keys()))\n",
    "# plt.show()"
   ]
  },
  {
   "cell_type": "code",
   "execution_count": 70,
   "id": "5cae2911",
   "metadata": {},
   "outputs": [
    {
     "data": {
      "image/png": "[encoded data removed]",
      "text/plain": [
       "<Figure size 432x288 with 1 Axes>"
      ]
     },
     "metadata": {
      "needs_background": "light"
     },
     "output_type": "display_data"
    }
   ],
   "source": [
    "import seaborn as sb\n",
    "import matplotlib.pyplot as plt\n",
    "from matplotlib import style\n",
    "\n",
    "# Visualization Question 1\n",
    "\n",
    "abandonment_rates = {}\n",
    "queues = [\"A\", \"B\", \"C\", \"D\"]\n",
    "queue_dict = df.groupby(\"Queue\").agg(\"sum\")\n",
    "for i in range(4):\n",
    "    abandonment_rates[queues[i]] = queue_dict[\"Abandoned\"][i] / queue_dict[\"Calls\"][i] \n",
    "\n",
    "plt.bar(range(len(abandonment_rates)), list(abandonment_rates.values()), align='center')\n",
    "plt.xticks(range(len(abandonment_rates)), list(abandonment_rates.keys()))\n",
    "plt.show()"
   ]
  },
  {
   "cell_type": "code",
   "execution_count": 80,
   "id": "475bfb01",
   "metadata": {},
   "outputs": [
    {
     "name": "stdout",
     "output_type": "stream",
     "text": [
      "Call Purpose     Incoming or Outgoing\n",
      "Complaint        Incoming                 51\n",
      "Product Support  Outgoing                228\n",
      "                 Incoming                 82\n",
      "Sales Support    Outgoing                123\n",
      "                 Incoming                 75\n",
      "Name: Incoming or Outgoing, dtype: int64\n"
     ]
    },
    {
     "data": {
      "image/png": "[encoded data removed]",
      "text/plain": [
       "<Figure size 432x288 with 1 Axes>"
      ]
     },
     "metadata": {
      "needs_background": "light"
     },
     "output_type": "display_data"
    },
    {
     "data": {
      "image/png": "[encoded data removed]",
      "text/plain": [
       "<Figure size 432x288 with 1 Axes>"
      ]
     },
     "metadata": {
      "needs_background": "light"
     },
     "output_type": "display_data"
    },
    {
     "data": {
      "image/png": "[encoded data removed]",
      "text/plain": [
       "<Figure size 432x288 with 1 Axes>"
      ]
     },
     "metadata": {
      "needs_background": "light"
     },
     "output_type": "display_data"
    }
   ],
   "source": [
    "import seaborn as sb\n",
    "import matplotlib.pyplot as plt\n",
    "from matplotlib import style\n",
    "\n",
    "# Visualization Question 3\n",
    "\n",
    "purpose_group = df.groupby(\"Call Purpose\")\n",
    "call_purposes = [\"Complaint\", \"Product Support\", \"Sales Support\"] \n",
    "purpose_counts = purpose_group[\"Incoming or Outgoing\"].value_counts()\n",
    "print(purpose_counts)\n",
    "complaints = purpose_counts[\"Complaint\"].to_dict()\n",
    "sales_support = purpose_counts[\"Sales Support\"].to_dict()\n",
    "product_support = purpose_counts[\"Product Support\"].to_dict()\n",
    "\n",
    "plt.bar(range(len(complaints)), list(complaints.values()), align='center')\n",
    "plt.xticks(range(len(complaints)), list(complaints.keys()))\n",
    "plt.show()\n",
    "\n",
    "plt.bar(range(len(sales_support)), list(sales_support.values()), align='center')\n",
    "plt.xticks(range(len(sales_support)), list(sales_support.keys()))\n",
    "plt.show()\n",
    "\n",
    "plt.bar(range(len(product_support)), list(product_support.values()), align='center')\n",
    "plt.xticks(range(len(product_support)), list(product_support.keys()))\n",
    "plt.show()"
   ]
  },
  {
   "cell_type": "markdown",
   "id": "ea7ed568",
   "metadata": {},
   "source": [
    "# Summarize Your Work\n",
    "\n",
    "Answers for this section are entirely up to the students.  The rationale behind their choices is the focus of this section. Here are some examples of what their answers might look like:\n",
    "\n",
    "#. Using KPIs such as average abandonment rate, service level and average speed of answer, in your opinion, which one of the two branches is operating more efficiently? Why?\n",
    "    \n",
    "    The North branch gets fewer calls than the South branch so it makes sense that they have a better service level and speed of answer. This is why I would say the North branch is more efficient.\n",
    "\n",
    "#. Based on the number of reps in each branch and how quickly the reps are working, in your opinion, which branch would benefit from the extra help?\n",
    "\n",
    "    I would add more reps to the South branch because they get more calls and are struggling to keep up with the North branch in terms of efficiency with speed of answer and service level.\n",
    "    \n",
    "#. Now that you have explored the datasets, is there any data or information that you wish you had in this analysis?\n",
    "\n",
    "    I wish I had a total call time! I think that would be really helpful when thinking about call center efficiency."
   ]
  },
  {
   "cell_type": "markdown",
   "id": "ce16f43d",
   "metadata": {},
   "source": [
    "## Bonus Mission\n",
    "\n",
    "1. For each call purpose, how many calls (incoming and outgoing) take place in each time block?"
   ]
  },
  {
   "cell_type": "code",
   "execution_count": null,
   "id": "71b04f32",
   "metadata": {},
   "outputs": [],
   "source": [
    "# SYNTAX\n",
    "\n",
    "# Create smaller table:\n",
    "# call_times = df[[\"Time Block\", \"Call Purpose\", \"Incoming or Outgoing\", \"Calls\"]]\n",
    "\n",
    "# Use groupby to plot based on time blocks:\n",
    "# total_call_types = call_times.groupby(\"Time Block\").sum().plot.bar()\n",
    "\n",
    "# Use groupby and get_group to select which call purpose to plot:\n",
    "# complaint_times = call_times.groupby(\"Call Purpose\").get_group(\"Complaint\").value_counts().plot.bar()\n",
    "# sales_times = call_times.groupby(\"Call Purpose\").get_group(\"Sales Support\").value_counts().plot.bar()\n",
    "# product_times = call_times.groupby(\"Call Purpose\").get_group(\"Product Support\").value_counts().plot.bar()"
   ]
  },
  {
   "cell_type": "code",
   "execution_count": null,
   "id": "01782426",
   "metadata": {},
   "outputs": [],
   "source": []
  }
 ],
 "metadata": {
  "kernelspec": {
   "display_name": "Python 3",
   "language": "python",
   "name": "python3"
  },
  "language_info": {
   "codemirror_mode": {
    "name": "ipython",
    "version": 3
   },
   "file_extension": ".py",
   "mimetype": "text/x-python",
   "name": "python",
   "nbconvert_exporter": "python",
   "pygments_lexer": "ipython3",
   "version": "3.8.8"
  }
 },
 "nbformat": 4,
 "nbformat_minor": 5
}

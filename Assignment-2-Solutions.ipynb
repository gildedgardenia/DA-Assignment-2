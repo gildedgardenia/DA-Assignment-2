{
 "cells": [
  {
   "cell_type": "code",
   "execution_count": null,
   "id": "5d65af9f",
   "metadata": {},
   "outputs": [],
   "source": []
  },
  {
   "cell_type": "markdown",
   "id": "d1cdbf8f",
   "metadata": {},
   "source": [
    "# Data Analysis Assignment 2: Customer Service Data Solutions\n",
    "\n",
    "## Business Issue and Understanding\n",
    "\n",
    "## Getting Started\n",
    "You will have two csv files to work "
   ]
  },
  {
   "cell_type": "code",
   "execution_count": 506,
   "id": "f362436b",
   "metadata": {},
   "outputs": [],
   "source": [
    "import pandas as pd\n",
    "import numpy as np\n",
    "import matplotlib.pyplot as plt\n",
    "\n",
    "north = pd.read_csv(\"NorthCallCenter.csv\")\n",
    "south = pd.read_csv(\"SouthCallCenter.csv\")"
   ]
  },
  {
   "cell_type": "markdown",
   "id": "37f77cd4",
   "metadata": {},
   "source": [
    "<span style=\"background-color:orangered; color:orangered;\">- - - - - - - - - - - - - - - - - - - - - - - - - - - - - - - - - - - - - - - - - - - - - - - - - - - - - - - - - - - - - - - - - - - - - - - - - - - - - - - - - - - - - - - - -</span>"
   ]
  },
  {
   "cell_type": "markdown",
   "id": "b4d3484b",
   "metadata": {},
   "source": [
    "## Exploratory Data Analysis\n",
    "\n",
    "\n",
    "1. How many reps are in each branch?\n",
    "1. What is the average busy minutes, not ready minutes, incoming wait time, and during call wait time for each branch?\n",
    "1. What is the number of calls taken for each time block?\n"
   ]
  },
  {
   "cell_type": "markdown",
   "id": "76898991",
   "metadata": {},
   "source": [
    "<span style=\"color:orangered;\">- - - - - - - - - - - - - - - - - - - - - - - - - - - - - - - - - - - - - - - - - - - - - - - - - - - - - - - - - - - - - - - - - - - - - - - - - - - - - - - - - - - - - - - - -</span>\n",
    "#### EDA Question 1:  How many reps are in each branch?  "
   ]
  },
  {
   "cell_type": "code",
   "execution_count": 507,
   "id": "ce3eb5e4",
   "metadata": {},
   "outputs": [],
   "source": [
    "# Option using value_counts() \n",
    "# 9 in NORTH\n",
    "# 11 in SOUTH\n",
    "\n",
    "#SYNTAX USED:\n",
    "# north_reps = north[\"Rep ID\"].value_counts().count()\n",
    "# north_reps"
   ]
  },
  {
   "cell_type": "code",
   "execution_count": 508,
   "id": "3c715bbf",
   "metadata": {},
   "outputs": [],
   "source": [
    "# Option using nunique()\n",
    "\n",
    "# north_number_reps = north[\"Rep ID\"].nunique()  # 9 reps in NORTH\n",
    "\n",
    "# south_number_reps = south[\"Rep ID\"].nunique()  # 11 reps in SOUTH\n"
   ]
  },
  {
   "cell_type": "markdown",
   "id": "a872f045",
   "metadata": {},
   "source": [
    "<span style=\"color:orangered;\">- - - - - - - - - - - - - - - - - - - - - - - - - - - - - - - - - - - - - - - - - - - - - - - - - - - - - - - - - - - - - - - - - - - - - - - - - - - - - - - -</span> \n",
    "#### EDA Question 2:  What is the average busy minutes, not ready minutes, incoming wait time, and during call wait time for each branch? "
   ]
  },
  {
   "cell_type": "code",
   "execution_count": 509,
   "id": "3759305f",
   "metadata": {},
   "outputs": [],
   "source": [
    "# Question 2:\n",
    "# north.describe()\n",
    "# south.describe()"
   ]
  },
  {
   "cell_type": "markdown",
   "id": "75915553",
   "metadata": {},
   "source": [
    "<span style=\"color:orangered;\">- - - - - - - - - - - - - - - - - - - - - - - - - - - - - - - - - - - - - - - - - - - - - - - - - - - - - - - - - - - - - - - - - - - - - - - - - - - - - - - -</span> \n",
    "#### EDA Question 3:  What is the number of calls taken for each time block?"
   ]
  },
  {
   "cell_type": "code",
   "execution_count": 510,
   "id": "49566936",
   "metadata": {},
   "outputs": [],
   "source": [
    "# Question 3: \n",
    "# north_calls_per_time_block = north[\"Time Block\"].value_counts()\n",
    "# north_calls_per_time_block\n",
    "\n",
    "# OUTPUT\n",
    "# 12:00 PM    45\n",
    "# 10:00 AM    43\n",
    "# 2:00 PM     35\n",
    "# 3:00 PM     30\n",
    "# 4:00 PM     28\n",
    "# 11:00 AM    25\n",
    "# 1:00 PM     17\n",
    "# 5:00 PM     17\n",
    "# 9:00 AM      5\n",
    "# Name: Time Block, dtype: int64\n",
    "\n",
    "# order of time blocks determined by count"
   ]
  },
  {
   "cell_type": "markdown",
   "id": "446048d3",
   "metadata": {},
   "source": [
    "<span style=\"background-color:orangered; color:orangered;\">- - - - - - - - - - - - - - - - - - - - - - - - - - - - - - - - - - - - - - - - - - - - - - - - - - - - - - - - - - - - - - - - - - - - - - - - - - - - - - - - - - - - - - - - -</span>"
   ]
  },
  {
   "cell_type": "markdown",
   "id": "366bfb19",
   "metadata": {},
   "source": [
    "## Cleaning Your Data \n",
    "\n",
    "Clean your Data Set by checking for missing data, irregular data, unnecessary data, and inconsistent data.\n",
    "\n",
    "**Questions to Answer:**\n",
    "1. Are there any duplicates in the two data sets?\n",
    "1. Is any of the data in these two data sets unnecessary?\n",
    "1. Incoming wait time is null in many places.  Do all of those places correspond to outgoing calls?\n",
    "1. In the north data set, there are 2 separate \"YES\" values for a sale.  Why and how do you rectify the issue?  "
   ]
  },
  {
   "cell_type": "markdown",
   "id": "c3564d69",
   "metadata": {},
   "source": [
    "#### Question 1:\n",
    "No\n",
    "\n",
    "#### Question 2: \n",
    "No (at least not for the purpose of this exrecise)"
   ]
  },
  {
   "cell_type": "markdown",
   "id": "715f375a",
   "metadata": {},
   "source": [
    "<span style=\"color:orangered;\">- - - - - - - - - - - - - - - - - - - - - - - - - - - - - - - - - - - - - - - - - - - - - - - - - - - - - - - - - - - - - - - - - - - - - - - - - - - - - - - - - - - - - - - - -</span>\n",
    "#### Cleaning Question 3:  Do all of the Incoming Wait Time null values correspond to outgoing calls?  \n",
    "##### Option 1: using value_counts() only"
   ]
  },
  {
   "cell_type": "code",
   "execution_count": 511,
   "id": "2323673a",
   "metadata": {},
   "outputs": [],
   "source": [
    "# north_in_out_check = north[\"Incoming or Outgoing\"].value_counts()\n",
    "# north_in_out_check\n",
    "\n",
    "# OUTPUT:\n",
    "# Outgoing    163\n",
    "# Incoming     82\n",
    "# Name: Incoming or Outgoing, dtype: int64\n",
    "\n",
    "# north_iwt = north[\"Incoming Wait Time\"].value_counts(dropna=False)\n",
    "# north_iwt\n",
    "\n",
    "# OUTPUT\n",
    "# NaN    163\n",
    "# 4.0     20\n",
    "# 5.0     17\n",
    "# 1.0     17\n",
    "# 2.0     16\n",
    "# 3.0     12\n",
    "# Name: Incoming Wait Time, dtype: int64"
   ]
  },
  {
   "cell_type": "markdown",
   "id": "5c2ced2f",
   "metadata": {},
   "source": [
    "##### Option 2: Create 2 tables based on incoming and outgoing then apply value_counts.  \n",
    "\n",
    "Resource: https://pandas.pydata.org/docs/getting_started/intro_tutorials/03_subset_data.html"
   ]
  },
  {
   "cell_type": "code",
   "execution_count": 512,
   "id": "9aba945f",
   "metadata": {},
   "outputs": [],
   "source": [
    "# Question 1: Option 2 --> created 2 tables based on incoming/outgoing and then counted incoming wait time. more exact.\n",
    "\n",
    "        \n",
    "# Table 1:  Table containing ONLY outgoing calls from the north branch\n",
    "# north_out_table = north[north[\"Incoming or Outgoing\"] == \"Outgoing\"]\n",
    "# north_out_table[\"Incoming Wait Time\"].value_counts()\n",
    "\n",
    "# OUTPUT\n",
    "# Series([], Name: Incoming Wait Time, dtype: int64)\n",
    "\n",
    "# Table 2: Table containing ONLY incoming calls from the north branch\n",
    "# north_in_table = north[north[\"Incoming or Outgoing\"] == \"Incoming\"]\n",
    "# north_in_table[\"Incoming Wait Time\"].value_counts()\n",
    "\n",
    "# OUTPUT\n",
    "# 4.0    20\n",
    "# 5.0    17\n",
    "# 1.0    17\n",
    "# 2.0    16\n",
    "# 3.0    12"
   ]
  },
  {
   "cell_type": "markdown",
   "id": "8ffaa865",
   "metadata": {},
   "source": [
    "<span style=\"color:orangered;\">- - - - - - - - - - - - - - - - - - - - - - - - - - - - - - - - - - - - - - - - - - - - - - - - - - - - - - - - - - - - - - - - - - - - - - - - - - - - - - - - - - - - - - - - -</span>\n",
    "#### Cleaning Question 4:  In the north data set, there are 2 separate \"YES\" values for a sale. Why and how do you rectify the issue? "
   ]
  },
  {
   "cell_type": "code",
   "execution_count": 513,
   "id": "78b45e70",
   "metadata": {},
   "outputs": [],
   "source": [
    "# yes_check = north[\"Sale\"].value_counts()\n",
    "# yes_check\n",
    "\n",
    "    # OUTPUT\n",
    "    # NO      234\n",
    "    # YES      10\n",
    "    # YES       1  # This yes is located in row 19\n",
    "    # Name: Sale, dtype: int64\n",
    "\n",
    "#SYNTAX USED:\n",
    "# new_yes = north[\"Sale\"].str.replace(\"YES \", \"YES\")  # There is an extra space after the \"YES \"\n",
    "# new_yes.value_counts()\n",
    "# north[\"Sale\"] = new_yes\n",
    "# north[\"Sale\"].value_counts()\n",
    "\n",
    "    #OUTPUT\n",
    "    # NO     234\n",
    "    # YES     11\n",
    "    # Name: Sale, dtype: int64"
   ]
  },
  {
   "cell_type": "markdown",
   "id": "f67d89ab",
   "metadata": {},
   "source": [
    "<span style=\"background-color:orangered; color:orangered;\">- - - - - - - - - - - - - - - - - - - - - - - - - - - - - - - - - - - - - - - - - - - - - - - - - - - - - - - - - - - - - - - - - - - - - - - - - - - - - - - - - - - - - - - - -</span>"
   ]
  },
  {
   "cell_type": "markdown",
   "id": "73342a9a",
   "metadata": {},
   "source": [
    "## Data Manipuation\n",
    "\n",
    "Before you begin answering any questions, combine the two datasets together to create a third dataframe called df. You can use this third dataframe to compare the two call centers to company-wide trends.\n",
    "\n",
    "1. Group by Rep ID and sum the resulting structure. Sort by calls to determine which rep in each branch has the highest number of calls.\n",
    "1. The average call abandonment rate is a KPI when it comes to determining call center efficiency. As you may recall, abandoned calls are calls where the customer hangs up due to long call times. What is the average call abandonment rate for each branch and the whole company? Do any of these fall out of the optimal range of 2-5%?\n",
    "1. Service level is another KPI when it comes to measuring call center efficiency. Service level is the percentage of calls answered within a specific number of seconds. In the case of your employer, their ideal time frame is 2 seconds. What is the percentage of calls answered within 2 seconds for each company and the entire company?\n",
    "1. For each branch and the entire company, what is the average speed of answer?"
   ]
  },
  {
   "cell_type": "markdown",
   "id": "7e87dfd1",
   "metadata": {},
   "source": [
    "<span style=\"color:orangered;\">- - - - - - - - - - - - - - - - - - - - - - - - - - - - - - - - - - - - - - - - - - - - - - - - - - - - - - - - - - - - - - - - - - - - - - - - - - - - - - - - - - - - - - - - -</span>\n",
    "#### Manipulation Question 1:  Sort by calls to determine which rep in each branch has the highest number of calls"
   ]
  },
  {
   "cell_type": "code",
   "execution_count": 514,
   "id": "3953f09a",
   "metadata": {},
   "outputs": [],
   "source": [
    "# OUTPUT is a table listing each rep and their total number of calls:  \n",
    "  # In the NORTH branch, Brent has 37 calls.  \n",
    "  # In the SOUTH branch, Eric has 35 calls\n",
    "\n",
    "#SYNTAX USED:\n",
    "# north_reps = north.groupby(\"Rep ID\").sum()\n",
    "# north_reps.sort_values(\"Calls\", ascending=False)"
   ]
  },
  {
   "cell_type": "markdown",
   "id": "809293b9",
   "metadata": {},
   "source": [
    "<span style=\"color:orangered;\">- - - - - - - - - - - - - - - - - - - - - - - - - - - - - - - - - - - - - - - - - - - - - - - - - - - - - - - - - - - - - - - - - - - - - - - - - - - - - - - - - - - - - - - - -</span>\n",
    "#### Manipulation Question 2:  What is the average call abandonment rate for each branch and the whole company? Do any of these fall out of the optimal range of 2-5%?"
   ]
  },
  {
   "cell_type": "code",
   "execution_count": 515,
   "id": "3dff7534",
   "metadata": {},
   "outputs": [],
   "source": [
    "# data frame for the entire company\n",
    "df = north.append(south)\n",
    "\n",
    "# Average Call Abandonment Rates \n",
    "    # NORTH = 2.86% (rounding up to students)\n",
    "    # SOUTH = 1.27%\n",
    "    # COMPANY = 1.97%\n",
    "\n",
    "#SYNTAX USED:\n",
    "# avg_aban_rate_n = ((north[\"Abandoned\"].sum()/north[\"Calls\"].sum())*100).round(2)\n",
    "# avg_aban_rate_n"
   ]
  },
  {
   "cell_type": "markdown",
   "id": "598bb1bf",
   "metadata": {},
   "source": [
    "<span style=\"color:orangered;\">- - - - - - - - - - - - - - - - - - - - - - - - - - - - - - - - - - - - - - - - - - - - - - - - - - - - - - - - - - - - - - - - - - - - - - - - - - - - - - - - - - - - - - - - -</span>\n",
    "#### Manipulation Question 3:  What is the percentage of calls answered within 2 seconds for each branch and the entire company?"
   ]
  },
  {
   "cell_type": "code",
   "execution_count": 516,
   "id": "2fc8f669",
   "metadata": {},
   "outputs": [],
   "source": [
    "# Question 3:\n",
    "\n",
    "# NORTH 33 calls & 13.47%\n",
    "# SOUTH 48 calls & 15.29%\n",
    "# COMPANY 81 calls & 14.49%\n",
    "\n",
    "# SYNTAX USED:\n",
    "# seconds_n = (north[\"Incoming Wait Time\"] <= 2.0).sum()\n",
    "# n_call_eff = (seconds_n/north[\"Calls\"].sum()*100).round(2)\n",
    "# n_call_eff"
   ]
  },
  {
   "cell_type": "code",
   "execution_count": 517,
   "id": "72a653ed",
   "metadata": {},
   "outputs": [],
   "source": [
    "# Question 4: \n",
    "\n",
    "# COMPANY average speed of answer = 3.019231 seconds\n",
    "# NORTH average speed of answer =  3.048780 seconds\n",
    "# SOUTH average speed of answer = 3.000000 seconds\n",
    "\n",
    "#SYNTAX USED:\n",
    "    # Option 1: describe()\n",
    "# df.describe() # Look at Incoming Wait Time\n",
    "\n",
    "    # Option 2: agg()\n",
    "# company_avg = df[\"Incoming Wait Time\"].agg(\"mean\")\n",
    "# company_avg\n",
    "\n",
    "\n",
    "\n"
   ]
  },
  {
   "cell_type": "code",
   "execution_count": 518,
   "id": "c6c2be5e",
   "metadata": {},
   "outputs": [
    {
     "data": {
      "text/html": [
       "<div>\n",
       "<style scoped>\n",
       "    .dataframe tbody tr th:only-of-type {\n",
       "        vertical-align: middle;\n",
       "    }\n",
       "\n",
       "    .dataframe tbody tr th {\n",
       "        vertical-align: top;\n",
       "    }\n",
       "\n",
       "    .dataframe thead th {\n",
       "        text-align: right;\n",
       "    }\n",
       "</style>\n",
       "<table border=\"1\" class=\"dataframe\">\n",
       "  <thead>\n",
       "    <tr style=\"text-align: right;\">\n",
       "      <th></th>\n",
       "      <th>Unnamed: 0</th>\n",
       "      <th>Lost Call</th>\n",
       "      <th>Abandoned</th>\n",
       "      <th>Busy Minutes</th>\n",
       "      <th>Not Ready Minutes</th>\n",
       "      <th>Incoming Wait Time</th>\n",
       "      <th>During Call Wait Time</th>\n",
       "      <th>Calls</th>\n",
       "    </tr>\n",
       "  </thead>\n",
       "  <tbody>\n",
       "    <tr>\n",
       "      <th>count</th>\n",
       "      <td>314.000000</td>\n",
       "      <td>314.000000</td>\n",
       "      <td>314.000000</td>\n",
       "      <td>314.00000</td>\n",
       "      <td>314.000000</td>\n",
       "      <td>126.000000</td>\n",
       "      <td>314.000000</td>\n",
       "      <td>314.0</td>\n",
       "    </tr>\n",
       "    <tr>\n",
       "      <th>mean</th>\n",
       "      <td>156.500000</td>\n",
       "      <td>0.035032</td>\n",
       "      <td>0.012739</td>\n",
       "      <td>10.05414</td>\n",
       "      <td>1.910828</td>\n",
       "      <td>3.000000</td>\n",
       "      <td>3.076433</td>\n",
       "      <td>1.0</td>\n",
       "    </tr>\n",
       "    <tr>\n",
       "      <th>std</th>\n",
       "      <td>90.788215</td>\n",
       "      <td>0.184154</td>\n",
       "      <td>0.112324</td>\n",
       "      <td>1.40751</td>\n",
       "      <td>0.860016</td>\n",
       "      <td>1.308434</td>\n",
       "      <td>0.819424</td>\n",
       "      <td>0.0</td>\n",
       "    </tr>\n",
       "    <tr>\n",
       "      <th>min</th>\n",
       "      <td>0.000000</td>\n",
       "      <td>0.000000</td>\n",
       "      <td>0.000000</td>\n",
       "      <td>8.00000</td>\n",
       "      <td>1.000000</td>\n",
       "      <td>1.000000</td>\n",
       "      <td>2.000000</td>\n",
       "      <td>1.0</td>\n",
       "    </tr>\n",
       "    <tr>\n",
       "      <th>25%</th>\n",
       "      <td>78.250000</td>\n",
       "      <td>0.000000</td>\n",
       "      <td>0.000000</td>\n",
       "      <td>9.00000</td>\n",
       "      <td>1.000000</td>\n",
       "      <td>2.000000</td>\n",
       "      <td>2.000000</td>\n",
       "      <td>1.0</td>\n",
       "    </tr>\n",
       "    <tr>\n",
       "      <th>50%</th>\n",
       "      <td>156.500000</td>\n",
       "      <td>0.000000</td>\n",
       "      <td>0.000000</td>\n",
       "      <td>10.00000</td>\n",
       "      <td>2.000000</td>\n",
       "      <td>3.000000</td>\n",
       "      <td>3.000000</td>\n",
       "      <td>1.0</td>\n",
       "    </tr>\n",
       "    <tr>\n",
       "      <th>75%</th>\n",
       "      <td>234.750000</td>\n",
       "      <td>0.000000</td>\n",
       "      <td>0.000000</td>\n",
       "      <td>11.00000</td>\n",
       "      <td>3.000000</td>\n",
       "      <td>4.000000</td>\n",
       "      <td>4.000000</td>\n",
       "      <td>1.0</td>\n",
       "    </tr>\n",
       "    <tr>\n",
       "      <th>max</th>\n",
       "      <td>313.000000</td>\n",
       "      <td>1.000000</td>\n",
       "      <td>1.000000</td>\n",
       "      <td>12.00000</td>\n",
       "      <td>3.000000</td>\n",
       "      <td>5.000000</td>\n",
       "      <td>4.000000</td>\n",
       "      <td>1.0</td>\n",
       "    </tr>\n",
       "  </tbody>\n",
       "</table>\n",
       "</div>"
      ],
      "text/plain": [
       "       Unnamed: 0   Lost Call   Abandoned  Busy Minutes  Not Ready Minutes  \\\n",
       "count  314.000000  314.000000  314.000000     314.00000         314.000000   \n",
       "mean   156.500000    0.035032    0.012739      10.05414           1.910828   \n",
       "std     90.788215    0.184154    0.112324       1.40751           0.860016   \n",
       "min      0.000000    0.000000    0.000000       8.00000           1.000000   \n",
       "25%     78.250000    0.000000    0.000000       9.00000           1.000000   \n",
       "50%    156.500000    0.000000    0.000000      10.00000           2.000000   \n",
       "75%    234.750000    0.000000    0.000000      11.00000           3.000000   \n",
       "max    313.000000    1.000000    1.000000      12.00000           3.000000   \n",
       "\n",
       "       Incoming Wait Time  During Call Wait Time  Calls  \n",
       "count          126.000000             314.000000  314.0  \n",
       "mean             3.000000               3.076433    1.0  \n",
       "std              1.308434               0.819424    0.0  \n",
       "min              1.000000               2.000000    1.0  \n",
       "25%              2.000000               2.000000    1.0  \n",
       "50%              3.000000               3.000000    1.0  \n",
       "75%              4.000000               4.000000    1.0  \n",
       "max              5.000000               4.000000    1.0  "
      ]
     },
     "execution_count": 518,
     "metadata": {},
     "output_type": "execute_result"
    }
   ],
   "source": [
    "south.describe()"
   ]
  },
  {
   "cell_type": "code",
   "execution_count": null,
   "id": "b40a06f5",
   "metadata": {},
   "outputs": [],
   "source": []
  },
  {
   "cell_type": "markdown",
   "id": "ba3ca2cd",
   "metadata": {},
   "source": [
    "<span style=\"background-color:orangered; color:orangered;\">- - - - - - - - - - - - - - - - - - - - - - - - - - - - - - - - - - - - - - - - - - - - - - - - - - - - - - - - - - - - - - - - - - - - - - - - - - - - - - - - - - - - - - - - -</span>"
   ]
  },
  {
   "cell_type": "markdown",
   "id": "d5f50a40",
   "metadata": {},
   "source": [
    "## Visualization\n",
    "\n",
    "For each chart you created, eplain why you chose the chart style.\n",
    "\n",
    "1. Abandonment Rate per Queue\n",
    "1. What is the service level and average speed of answer per each rep?  <--\n",
    "1. For each type of call purpose, how many calls are outgoing vs incoming?  \n",
    " "
   ]
  },
  {
   "cell_type": "code",
   "execution_count": 519,
   "id": "a933fb27",
   "metadata": {},
   "outputs": [
    {
     "data": {
      "image/png": "[encoded data removed]",
      "text/plain": [
       "<Figure size 432x288 with 1 Axes>"
      ]
     },
     "metadata": {
      "needs_background": "light"
     },
     "output_type": "display_data"
    }
   ],
   "source": [
    "# average speed of answer = average incoming wait time per rep\n",
    "north_plt = north.groupby(\"Rep ID\")[\"Incoming Wait Time\"].mean().to_frame().reset_index()\n",
    "\n",
    "plt.title('Average Speed of Answer per Rep in Seconds')\n",
    "plt.xlabel('Reps')\n",
    "plt.ylabel('Seconds')\n",
    "\n",
    "plt.bar(north_plt[\"Rep ID\"], north_plt[\"Incoming Wait Time\"])\n",
    "plt.show()"
   ]
  },
  {
   "cell_type": "code",
   "execution_count": 542,
   "id": "e6cc709e",
   "metadata": {},
   "outputs": [
    {
     "data": {
      "text/html": [
       "<div>\n",
       "<style scoped>\n",
       "    .dataframe tbody tr th:only-of-type {\n",
       "        vertical-align: middle;\n",
       "    }\n",
       "\n",
       "    .dataframe tbody tr th {\n",
       "        vertical-align: top;\n",
       "    }\n",
       "\n",
       "    .dataframe thead th {\n",
       "        text-align: right;\n",
       "    }\n",
       "</style>\n",
       "<table border=\"1\" class=\"dataframe\">\n",
       "  <thead>\n",
       "    <tr style=\"text-align: right;\">\n",
       "      <th></th>\n",
       "      <th>Rep ID</th>\n",
       "      <th>Incoming Wait Time</th>\n",
       "      <th>Calls</th>\n",
       "    </tr>\n",
       "  </thead>\n",
       "  <tbody>\n",
       "    <tr>\n",
       "      <th>0</th>\n",
       "      <td>Brent</td>\n",
       "      <td>1.0</td>\n",
       "      <td>1</td>\n",
       "    </tr>\n",
       "    <tr>\n",
       "      <th>1</th>\n",
       "      <td>Cam</td>\n",
       "      <td>1.0</td>\n",
       "      <td>1</td>\n",
       "    </tr>\n",
       "    <tr>\n",
       "      <th>2</th>\n",
       "      <td>Todd</td>\n",
       "      <td>1.0</td>\n",
       "      <td>1</td>\n",
       "    </tr>\n",
       "    <tr>\n",
       "      <th>3</th>\n",
       "      <td>Brent</td>\n",
       "      <td>1.0</td>\n",
       "      <td>1</td>\n",
       "    </tr>\n",
       "    <tr>\n",
       "      <th>4</th>\n",
       "      <td>Brent</td>\n",
       "      <td>1.0</td>\n",
       "      <td>1</td>\n",
       "    </tr>\n",
       "    <tr>\n",
       "      <th>5</th>\n",
       "      <td>Duke</td>\n",
       "      <td>1.0</td>\n",
       "      <td>1</td>\n",
       "    </tr>\n",
       "    <tr>\n",
       "      <th>6</th>\n",
       "      <td>Joe</td>\n",
       "      <td>1.0</td>\n",
       "      <td>1</td>\n",
       "    </tr>\n",
       "    <tr>\n",
       "      <th>7</th>\n",
       "      <td>Lilly</td>\n",
       "      <td>1.0</td>\n",
       "      <td>1</td>\n",
       "    </tr>\n",
       "    <tr>\n",
       "      <th>8</th>\n",
       "      <td>Duke</td>\n",
       "      <td>1.0</td>\n",
       "      <td>1</td>\n",
       "    </tr>\n",
       "    <tr>\n",
       "      <th>9</th>\n",
       "      <td>Cam</td>\n",
       "      <td>1.0</td>\n",
       "      <td>1</td>\n",
       "    </tr>\n",
       "    <tr>\n",
       "      <th>10</th>\n",
       "      <td>Joe</td>\n",
       "      <td>1.0</td>\n",
       "      <td>1</td>\n",
       "    </tr>\n",
       "    <tr>\n",
       "      <th>11</th>\n",
       "      <td>Amanda</td>\n",
       "      <td>1.0</td>\n",
       "      <td>1</td>\n",
       "    </tr>\n",
       "    <tr>\n",
       "      <th>12</th>\n",
       "      <td>Todd</td>\n",
       "      <td>1.0</td>\n",
       "      <td>1</td>\n",
       "    </tr>\n",
       "    <tr>\n",
       "      <th>13</th>\n",
       "      <td>Duke</td>\n",
       "      <td>1.0</td>\n",
       "      <td>1</td>\n",
       "    </tr>\n",
       "    <tr>\n",
       "      <th>14</th>\n",
       "      <td>Brent</td>\n",
       "      <td>1.0</td>\n",
       "      <td>1</td>\n",
       "    </tr>\n",
       "    <tr>\n",
       "      <th>15</th>\n",
       "      <td>Duke</td>\n",
       "      <td>1.0</td>\n",
       "      <td>1</td>\n",
       "    </tr>\n",
       "    <tr>\n",
       "      <th>16</th>\n",
       "      <td>Brent</td>\n",
       "      <td>1.0</td>\n",
       "      <td>1</td>\n",
       "    </tr>\n",
       "    <tr>\n",
       "      <th>17</th>\n",
       "      <td>Andy</td>\n",
       "      <td>2.0</td>\n",
       "      <td>1</td>\n",
       "    </tr>\n",
       "    <tr>\n",
       "      <th>18</th>\n",
       "      <td>Duke</td>\n",
       "      <td>2.0</td>\n",
       "      <td>1</td>\n",
       "    </tr>\n",
       "    <tr>\n",
       "      <th>19</th>\n",
       "      <td>Lilly</td>\n",
       "      <td>2.0</td>\n",
       "      <td>1</td>\n",
       "    </tr>\n",
       "    <tr>\n",
       "      <th>20</th>\n",
       "      <td>Lilly</td>\n",
       "      <td>2.0</td>\n",
       "      <td>1</td>\n",
       "    </tr>\n",
       "    <tr>\n",
       "      <th>21</th>\n",
       "      <td>Duke</td>\n",
       "      <td>2.0</td>\n",
       "      <td>1</td>\n",
       "    </tr>\n",
       "    <tr>\n",
       "      <th>22</th>\n",
       "      <td>Andy</td>\n",
       "      <td>2.0</td>\n",
       "      <td>1</td>\n",
       "    </tr>\n",
       "    <tr>\n",
       "      <th>23</th>\n",
       "      <td>Brent</td>\n",
       "      <td>2.0</td>\n",
       "      <td>1</td>\n",
       "    </tr>\n",
       "    <tr>\n",
       "      <th>24</th>\n",
       "      <td>Amanda</td>\n",
       "      <td>2.0</td>\n",
       "      <td>1</td>\n",
       "    </tr>\n",
       "    <tr>\n",
       "      <th>25</th>\n",
       "      <td>Amanda</td>\n",
       "      <td>2.0</td>\n",
       "      <td>1</td>\n",
       "    </tr>\n",
       "    <tr>\n",
       "      <th>26</th>\n",
       "      <td>Lilly</td>\n",
       "      <td>2.0</td>\n",
       "      <td>1</td>\n",
       "    </tr>\n",
       "    <tr>\n",
       "      <th>27</th>\n",
       "      <td>Xander</td>\n",
       "      <td>2.0</td>\n",
       "      <td>1</td>\n",
       "    </tr>\n",
       "    <tr>\n",
       "      <th>28</th>\n",
       "      <td>Andy</td>\n",
       "      <td>2.0</td>\n",
       "      <td>1</td>\n",
       "    </tr>\n",
       "    <tr>\n",
       "      <th>29</th>\n",
       "      <td>Cam</td>\n",
       "      <td>2.0</td>\n",
       "      <td>1</td>\n",
       "    </tr>\n",
       "    <tr>\n",
       "      <th>30</th>\n",
       "      <td>Xander</td>\n",
       "      <td>2.0</td>\n",
       "      <td>1</td>\n",
       "    </tr>\n",
       "    <tr>\n",
       "      <th>31</th>\n",
       "      <td>Cam</td>\n",
       "      <td>2.0</td>\n",
       "      <td>1</td>\n",
       "    </tr>\n",
       "    <tr>\n",
       "      <th>32</th>\n",
       "      <td>Cam</td>\n",
       "      <td>2.0</td>\n",
       "      <td>1</td>\n",
       "    </tr>\n",
       "  </tbody>\n",
       "</table>\n",
       "</div>"
      ],
      "text/plain": [
       "    Rep ID  Incoming Wait Time  Calls\n",
       "0    Brent                 1.0      1\n",
       "1      Cam                 1.0      1\n",
       "2     Todd                 1.0      1\n",
       "3    Brent                 1.0      1\n",
       "4    Brent                 1.0      1\n",
       "5     Duke                 1.0      1\n",
       "6      Joe                 1.0      1\n",
       "7    Lilly                 1.0      1\n",
       "8     Duke                 1.0      1\n",
       "9      Cam                 1.0      1\n",
       "10     Joe                 1.0      1\n",
       "11  Amanda                 1.0      1\n",
       "12    Todd                 1.0      1\n",
       "13    Duke                 1.0      1\n",
       "14   Brent                 1.0      1\n",
       "15    Duke                 1.0      1\n",
       "16   Brent                 1.0      1\n",
       "17    Andy                 2.0      1\n",
       "18    Duke                 2.0      1\n",
       "19   Lilly                 2.0      1\n",
       "20   Lilly                 2.0      1\n",
       "21    Duke                 2.0      1\n",
       "22    Andy                 2.0      1\n",
       "23   Brent                 2.0      1\n",
       "24  Amanda                 2.0      1\n",
       "25  Amanda                 2.0      1\n",
       "26   Lilly                 2.0      1\n",
       "27  Xander                 2.0      1\n",
       "28    Andy                 2.0      1\n",
       "29     Cam                 2.0      1\n",
       "30  Xander                 2.0      1\n",
       "31     Cam                 2.0      1\n",
       "32     Cam                 2.0      1"
      ]
     },
     "execution_count": 542,
     "metadata": {},
     "output_type": "execute_result"
    }
   ],
   "source": [
    "# What is the service level per each rep?\n",
    "# Service level is the percentage of calls answered within a specific number of seconds. (2 seconds)\n",
    "\n",
    "quick_calls = north[north[\"Incoming Wait Time\"] <= 2.0]\n",
    "quick_calls.head()\n",
    "\n",
    "reps_stats = quick_calls[[\"Rep ID\", \"Incoming Wait Time\", \"Calls\"]]\n",
    "reps_stats"
   ]
  },
  {
   "cell_type": "code",
   "execution_count": 547,
   "id": "70cac5aa",
   "metadata": {},
   "outputs": [
    {
     "data": {
      "text/plain": [
       "<AxesSubplot:xlabel='Rep ID'>"
      ]
     },
     "execution_count": 547,
     "metadata": {},
     "output_type": "execute_result"
    },
    {
     "data": {
      "image/png": "[encoded data removed]",
      "text/plain": [
       "<Figure size 432x288 with 1 Axes>"
      ]
     },
     "metadata": {
      "needs_background": "light"
     },
     "output_type": "display_data"
    }
   ],
   "source": [
    "a = reps_stats.groupby([\"Rep ID\"]).sum()\n",
    "a[\"Incoming Wait Time\"].plot()"
   ]
  },
  {
   "cell_type": "code",
   "execution_count": 548,
   "id": "e2c8fc2d",
   "metadata": {},
   "outputs": [
    {
     "data": {
      "text/html": [
       "<div>\n",
       "<style scoped>\n",
       "    .dataframe tbody tr th:only-of-type {\n",
       "        vertical-align: middle;\n",
       "    }\n",
       "\n",
       "    .dataframe tbody tr th {\n",
       "        vertical-align: top;\n",
       "    }\n",
       "\n",
       "    .dataframe thead th {\n",
       "        text-align: right;\n",
       "    }\n",
       "</style>\n",
       "<table border=\"1\" class=\"dataframe\">\n",
       "  <thead>\n",
       "    <tr style=\"text-align: right;\">\n",
       "      <th></th>\n",
       "      <th>Incoming Wait Time</th>\n",
       "      <th>Calls</th>\n",
       "    </tr>\n",
       "    <tr>\n",
       "      <th>Rep ID</th>\n",
       "      <th></th>\n",
       "      <th></th>\n",
       "    </tr>\n",
       "  </thead>\n",
       "  <tbody>\n",
       "    <tr>\n",
       "      <th>Amanda</th>\n",
       "      <td>5.0</td>\n",
       "      <td>3</td>\n",
       "    </tr>\n",
       "    <tr>\n",
       "      <th>Andy</th>\n",
       "      <td>6.0</td>\n",
       "      <td>3</td>\n",
       "    </tr>\n",
       "    <tr>\n",
       "      <th>Brent</th>\n",
       "      <td>7.0</td>\n",
       "      <td>6</td>\n",
       "    </tr>\n",
       "    <tr>\n",
       "      <th>Cam</th>\n",
       "      <td>8.0</td>\n",
       "      <td>5</td>\n",
       "    </tr>\n",
       "    <tr>\n",
       "      <th>Duke</th>\n",
       "      <td>8.0</td>\n",
       "      <td>6</td>\n",
       "    </tr>\n",
       "    <tr>\n",
       "      <th>Joe</th>\n",
       "      <td>2.0</td>\n",
       "      <td>2</td>\n",
       "    </tr>\n",
       "    <tr>\n",
       "      <th>Lilly</th>\n",
       "      <td>7.0</td>\n",
       "      <td>4</td>\n",
       "    </tr>\n",
       "    <tr>\n",
       "      <th>Todd</th>\n",
       "      <td>2.0</td>\n",
       "      <td>2</td>\n",
       "    </tr>\n",
       "    <tr>\n",
       "      <th>Xander</th>\n",
       "      <td>4.0</td>\n",
       "      <td>2</td>\n",
       "    </tr>\n",
       "  </tbody>\n",
       "</table>\n",
       "</div>"
      ],
      "text/plain": [
       "        Incoming Wait Time  Calls\n",
       "Rep ID                           \n",
       "Amanda                 5.0      3\n",
       "Andy                   6.0      3\n",
       "Brent                  7.0      6\n",
       "Cam                    8.0      5\n",
       "Duke                   8.0      6\n",
       "Joe                    2.0      2\n",
       "Lilly                  7.0      4\n",
       "Todd                   2.0      2\n",
       "Xander                 4.0      2"
      ]
     },
     "execution_count": 548,
     "metadata": {},
     "output_type": "execute_result"
    }
   ],
   "source": [
    "a"
   ]
  },
  {
   "cell_type": "markdown",
   "id": "218614a3",
   "metadata": {},
   "source": [
    "Notes for Thursday - double plot this!\n",
    "- currently have average calls within service level target\n",
    "- overlap with calls not in the target??  \n",
    "OR... am I not going in the right direction???\n",
    "- OR COMPARE IT TO THE TOTAL TOTAL Number of calls??  "
   ]
  },
  {
   "cell_type": "code",
   "execution_count": null,
   "id": "f0380f34",
   "metadata": {},
   "outputs": [],
   "source": [
    "# # Counts of how many 1 seconds and how many 2 seconds\n",
    "# service_check=(rep_table.value_counts(\"Incoming Wait Time\"))\n",
    "# service_check\n",
    "\n",
    "# # This is percentage of all staff\n",
    "# # service_check=(rep_table[\"Rep ID\"].value_counts(\"Incoming Wait Time\")*100).round(2)\n",
    "# # service_check"
   ]
  },
  {
   "cell_type": "code",
   "execution_count": null,
   "id": "9b87cb48",
   "metadata": {},
   "outputs": [],
   "source": [
    "serv_table = rep_table[[\"Rep ID\", \"Incoming Wait Time\", \"Calls\"]]\n",
    "\n",
    "serv_table[\"Service Level\"] = (serv_table[\"Calls\"].sum()/serv_table[\"Incoming Wait Time\"].sum())\n",
    "# serv_table[\"Service Level\"] = serv_table.loc[:, [\"Calls\"]]/serv_table.loc[:, [\"Incoming Wait Time\"]]\n",
    "serv_table.shape # 33, 4\n"
   ]
  },
  {
   "cell_type": "code",
   "execution_count": null,
   "id": "ea9d86a6",
   "metadata": {},
   "outputs": [],
   "source": [
    "a[\"Service Level Percentage\"] = (a[\"Calls\"].sum()/a[\"Incoming Wait Time\"].sum())*100\n",
    "a.head()"
   ]
  },
  {
   "cell_type": "code",
   "execution_count": null,
   "id": "4a248d60",
   "metadata": {},
   "outputs": [],
   "source": [
    "\n",
    "\n",
    "plt.title('Service Level Percentages Per Rep')\n",
    "plt.xlabel('Reps')\n",
    "plt.ylabel('Percentage of Calls Answered within 2 Seconds')\n",
    "\n",
    "plt.bar(a[\"Rep ID\"], a[\"Service Level Percentage\"])\n",
    "plt.show()"
   ]
  },
  {
   "cell_type": "code",
   "execution_count": null,
   "id": "34b3a7d6",
   "metadata": {},
   "outputs": [],
   "source": []
  },
  {
   "cell_type": "markdown",
   "id": "3d4cbace",
   "metadata": {},
   "source": [
    "## Submit Your Work"
   ]
  },
  {
   "cell_type": "code",
   "execution_count": null,
   "id": "aa6e898a",
   "metadata": {},
   "outputs": [],
   "source": []
  },
  {
   "cell_type": "markdown",
   "id": "ce16f43d",
   "metadata": {},
   "source": [
    "## Bonus Mission\n",
    "\n",
    "1. What are the time blocks of these call purposes? - groupby and plot  <--"
   ]
  },
  {
   "cell_type": "code",
   "execution_count": null,
   "id": "50b726c3",
   "metadata": {},
   "outputs": [],
   "source": []
  }
 ],
 "metadata": {
  "kernelspec": {
   "display_name": "Python 3",
   "language": "python",
   "name": "python3"
  },
  "language_info": {
   "codemirror_mode": {
    "name": "ipython",
    "version": 3
   },
   "file_extension": ".py",
   "mimetype": "text/x-python",
   "name": "python",
   "nbconvert_exporter": "python",
   "pygments_lexer": "ipython3",
   "version": "3.8.8"
  }
 },
 "nbformat": 4,
 "nbformat_minor": 5
}
